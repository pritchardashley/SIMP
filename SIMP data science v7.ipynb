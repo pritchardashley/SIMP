{
 "cells": [
  {
   "cell_type": "markdown",
   "id": "21f65051-adbf-4e0a-86ba-7bf0cce74ff8",
   "metadata": {},
   "source": [
    "# Squirrels In My Park (SIMP)\n",
    "<img src=\"candace-squirrel.gif\" width=\"1000\" >"
   ]
  },
  {
   "cell_type": "markdown",
   "id": "5ddbfd20-9d98-43b6-9f01-5e6784467dec",
   "metadata": {},
   "source": [
    "### Group Information\n",
    "    \n",
    "Mikayla Compton, mikayla.compton@utah.edu, u1538218  <br> \n",
    "Ashley Pritchard u1256025@utah.edu, U1256025 <br>\n",
    "Maya Wheeler, maya.wheeler@hsc.utah.edu, u0999875 <br>\n",
    "Repository Link: https://github.com/pritchardashley/SIMP<br>\n",
    "Topic: Understanding the correlation between physical squirrel attributes and location on behavior"
   ]
  },
  {
   "cell_type": "markdown",
   "id": "6a63e7ee-57d5-4347-8391-befbf00d299d",
   "metadata": {},
   "source": [
    "### Background and Motivation\n",
    "\n",
    "\n",
    "Almost everywhere we go, campus, a park, or even a big city, there will be squirrels. There are over 280 species of squirrels around the world (4) and come in a variety of colors: Black, brown, grey, red, and even containing purple, orange, and maroon (1) Research has found that squirrels have personalities and similar behaviors to humans (3). There has also been some research into the patterns of dominance in squirrels with older squirrels being more aggressive than younger squirrels and similar patterns for larger and smaller squirrels (6). There is a lot more to learn about squirrels and how and why they behave the ways that they do.\n",
    "\n",
    "\n",
    "A lot of our interest on this topic stems from our personal observations, specifically with the squirrels on the University of Utah campus. We as a group concluded that the level of human interactions, and food availability may have impacted their behaviors in certain situations. The squirrels on the University of Utah campus even have their own portion of the University of Utah website dedicated to them (2) as well as an annual “Squirrel Fest” held by the Natural History Museum (5). Although the data set of squirrels that we will be using is not based in Utah, we feel as though we can learn a lot of information, through the application of skills learned in class, to gain a better understanding of the squirrels in Utah and around the world. \n"
   ]
  },
  {
   "cell_type": "markdown",
   "id": "bf654682-9f83-4db2-a333-395b676d0f66",
   "metadata": {},
   "source": [
    "### Project Objectives\n",
    "\n",
    "\n",
    "The primary question that we want to try to answer within our project is if there is a strong correlation between the physical characteristics and location of the squirrels in central park and their observed behaviors. The specific characteristics that we are focusing on are fur color, highlighted fur color, age, and location of the squirrels. In a part of this we want to see if the squirrels that show fear towards interactions with humans have different characteristics than those squirrels that do not. Our null hypothesis is that the physical characteristics have no effect on behavioral observations and our alternative hypothesis is that the physical characteristics have an effect on the observed behaviors. \t\n",
    "\n",
    "    \n",
    "Our learning objective is to utilize what we have learned in class to perform an accurate analysis of our data. Potential skills we hope to apply and understand more deeply include but are not limited to: R-squared, P-value, OLS Regression, descriptive statistics, categorical data, dummy values, data clean, and data visualization. Another thing we want to look into is creating a map of the squirrels in Central Park that shows our results for better visualization.\n"
   ]
  },
  {
   "cell_type": "markdown",
   "id": "ec7e3d3a-df93-4c8b-bafb-a9703d79a557",
   "metadata": {},
   "source": [
    "### Data Description and Acquisition\n",
    "\n",
    "\n",
    "Our data comes from the 2018 NYC Squirrel Census. This was a citizen science project that had volunteers observing squirrels in Central Park in New York City. The data is in two CSV files, as well as a word document with data definitions. The first file has our primary data, which includes 3022 observations. Each observation has 7 columns identifying the location, time, date, etc for the observation. There are 23 different columns with boolean or nominal values for different attributes of the observed squirrel, such as color (grey, cinnamon or black), what the squirrel was doing(eating, foraging, etc.), and behaviors it displayed, including vocalizations or interactions with humans. The second file is a CSV containing the latitude and longitude of the hectares that the park was broken into for the observations. \n",
    "\n",
    "\n",
    "Squirrel census data:\n",
    "https://data.cityofnewyork.us/Environment/2018-Central-Park-Squirrel-Census-Squirrel-Data/vfnx-vebw/about_data\n",
    "\n",
    "\n",
    "Hectare data:\n",
    "https://data.cityofnewyork.us/dataset/2018-Central-Park-Squirrel-Census-Hectare-Grid/qad5-y26n/about_data\n"
   ]
  },
  {
   "cell_type": "code",
   "execution_count": null,
   "id": "32394de8-206f-43bb-8ddc-94c6dd2826c1",
   "metadata": {},
   "outputs": [],
   "source": [
    "import numpy as np\n",
    "import pandas as pd\n",
    "import matplotlib.pyplot as plt\n",
    "import seaborn as sns\n",
    "from scipy.stats import chi2_contingency\n",
    "from scipy.stats import chisquare\n",
    "import folium\n",
    "import re\n",
    "from shapely.geometry import Point, Polygon\n",
    "import shapely\n",
    "import geopandas as gpd\n",
    "from shapely.wkt import loads\n",
    "from shapely import wkt"
   ]
  },
  {
   "cell_type": "code",
   "execution_count": null,
   "id": "e6af242c-ed95-4fbc-9468-36c4d129e99e",
   "metadata": {},
   "outputs": [],
   "source": [
    "#importing our data\n",
    "nyc_squirrels=pd.read_csv('2018_Central_Park_Squirrel_Census_-_Squirrel_Data_20250304.csv')\n",
    "hectare = pd.read_csv('2018_Central_Park_Squirrel_Census_-_Hectare_Grid_20250304.csv')"
   ]
  },
  {
   "cell_type": "markdown",
   "id": "720bcfe0-c6b5-47d7-b316-5854d61ea33a",
   "metadata": {},
   "source": [
    "### Ethical Considerations\n",
    "\n",
    "\n",
    "The group that would be the most affected by our analysis would be the squirrel community within central park. Depending on what we find in our analysis it could encourage people to interact more with squirrels. This, in turn, could lead to the endangerment of the squirrels or an increase of stress onto them. If people are influenced to interact with the squirrels it could also lead to the transmission of disease between the squirrels and humans. With a possible influx of people interacting with squirrels this would also mean a direct increase of people to central park. This could affect other aspects of the park outside of the squirrel population like people straying off paths or stepping on plants. \n"
   ]
  },
  {
   "cell_type": "markdown",
   "id": "4c8ca383-1e0c-41c9-a898-0c5d1dabb397",
   "metadata": {},
   "source": [
    "### Data Cleaning and Processing"
   ]
  },
  {
   "cell_type": "markdown",
   "id": "e592357f-7c1e-4c3f-88f3-1a75d9f30b8a",
   "metadata": {},
   "source": [
    "After completing the first milestone, we realized the data cleaning and processing would be signifiantly more complex than originally anticipated.<br>\n",
    "The census data was fairly complete. The variables with the most missing values are not ones we intend to use, so those columns were dropped. The remaining rows with missing values were dropped as well."
   ]
  },
  {
   "cell_type": "code",
   "execution_count": null,
   "id": "e2f08c6e-eb00-4078-a800-693565570695",
   "metadata": {},
   "outputs": [],
   "source": [
    "#making a missing values heat map\n",
    "plt.figure(figsize=(8,6))\n",
    "sns.heatmap(nyc_squirrels.isnull(), cbar=False, cmap='viridis')\n",
    "plt.title('Missing Values Heatmap')\n",
    "#plt.savefig('Missing Squirrel Data', dpi=300)\n",
    "plt.show()"
   ]
  },
  {
   "cell_type": "code",
   "execution_count": null,
   "id": "e0242130-3f53-4303-bdb6-223669633b11",
   "metadata": {},
   "outputs": [],
   "source": [
    "#check amount of missing data in each column \n",
    "missing_data = nyc_squirrels.isna().sum()\n",
    "print(\"Total squirrels in dataset: \", len(nyc_squirrels))\n",
    "#drop unneeded columns \n",
    "drop_columns = ['Color notes', 'Specific Location', 'Other Activities', 'Other Interactions', 'Highlight Fur Color']\n",
    "clean_squirrels = nyc_squirrels.drop(columns = drop_columns)\n",
    "clean_squirrels = clean_squirrels.dropna()\n",
    "missing_data_ap = clean_squirrels.isna().sum()\n",
    "print(missing_data_ap)"
   ]
  },
  {
   "cell_type": "markdown",
   "id": "51887c1e-559f-4d1f-824c-887dfef9db0d",
   "metadata": {},
   "source": [
    "This is where the processing got more complicated. The bulk of the cleaning for this dataset was in the hectare data. The hectare dataset listed the latitude and longitude in a single string with extensive formatting, so they needed to be extracted, using a regular expression, and split into seperate columns."
   ]
  },
  {
   "cell_type": "code",
   "execution_count": null,
   "id": "dd7b3a49-1b53-470c-8c5b-7bf2a9149d15",
   "metadata": {},
   "outputs": [],
   "source": [
    "# Extract coordinate pairs using regex\n",
    "def extract_coords(wkt):\n",
    "    # Remove the leading \"MULTIPOLYGON (((\" and trailing \")))\"\n",
    "    cleaned = re.sub(r'^MULTIPOLYGON\\s+\\(\\(\\(|\\)\\)\\)$', '', wkt)\n",
    "    # Split into individual coordinate pairs\n",
    "    coord_pairs = cleaned.split(', ')\n",
    "    # Split each pair into lon and lat\n",
    "    coords = [coord.split() for coord in coord_pairs]\n",
    "    return coords\n",
    "\n",
    "# Apply extraction\n",
    "hectare['coords'] = hectare['the_geom'].apply(extract_coords)\n",
    "\n",
    "# Convert coordinate lists to individual columns\n",
    "# Flatten coordinates into new DataFrame columns\n",
    "coord_df = hectare['coords'].apply(lambda x: pd.Series([float(num) for pair in x for num in pair]))\n",
    "\n",
    "# Rename the columns as lon_1, lat_1, lon_2, lat_2, ...\n",
    "coord_df.columns = [f\"{'lon' if i % 2 == 0 else 'lat'}_{i//2 + 1}\" for i in coord_df.columns]\n",
    "\n",
    "# Concatenate with original DataFrame\n",
    "hectare_final = pd.concat([hectare.drop(columns='coords'), coord_df], axis=1)"
   ]
  },
  {
   "cell_type": "markdown",
   "id": "db79f285-5117-4011-af7a-8d8cede0620e",
   "metadata": {},
   "source": [
    "The squirrel data also used a different labeling system to identify hectares than the hectare data sets, so the two labeling systems had to be unified. This was achived by taking the location of one squirrel reported in each hecatre in the squirrel dataset, and finding which hectare in the hecatre dataset it's location fell within. These labels were then paired, and the datasets joined on the corresponding hectare labels."
   ]
  },
  {
   "cell_type": "code",
   "execution_count": null,
   "id": "07670d16-4c64-4f6c-989e-19fcddf00863",
   "metadata": {
    "scrolled": true
   },
   "outputs": [],
   "source": [
    "#saving the location of one squirrel identified in each hectare\n",
    "squirrel_hec_id = nyc_squirrels[['X','Y','Hectare']]\n",
    "squirrel_hec_id = squirrel_hec_id.sort_values(by = 'Hectare')\n",
    "squirrel_hec_id.drop_duplicates(subset=[\"Hectare\"], keep=\"first\", inplace=True)\n",
    "squirrel_hec_id.reset_index(drop=True, inplace=True)\n",
    "\n",
    "#making and naming the polygons with shapely\n",
    "hectares_shapely = []\n",
    "for i in range(len(hectare_final)):\n",
    "    p = (Polygon([(hectare_final.iloc[i,7],hectare_final.iloc[i,6]),\n",
    "                  (hectare_final.iloc[i,9],hectare_final.iloc[i,8]),\n",
    "                  (hectare_final.iloc[i,11],hectare_final.iloc[i,10]),\n",
    "                  (hectare_final.iloc[i,13],hectare_final.iloc[i,12])]),\n",
    "                 f'{hectare_final.iloc[i,1]}')\n",
    "    hectares_shapely.append(p)\n",
    "\n",
    "#finding which hectare each squirrel point belongs in\n",
    "hectare_assign = []\n",
    "for i in range(len(squirrel_hec_id)):\n",
    "    p = Point(squirrel_hec_id.iloc[i,1],squirrel_hec_id.iloc[i,0])\n",
    "    for s in hectares_shapely:\n",
    "        if s[0].contains(p) == True:\n",
    "            h = (([squirrel_hec_id.iloc[i,2],s[1]]))\n",
    "            hectare_assign.append(h)\n",
    "     \n",
    "hectare_assign = pd.DataFrame(hectare_assign, columns = ['Hectare', 'id'])\n",
    "hectare_assign['id'] = hectare_assign['id'].astype('int64')\n",
    "\n",
    "#joinging the squirrels data with the hectare id number\n",
    "nyc_squirrels = clean_squirrels.merge(hectare_assign, how='left', on='Hectare')\n",
    "nyc_squirrels"
   ]
  },
  {
   "cell_type": "markdown",
   "id": "538c3c01-33c3-404b-a1a6-9e253a49e995",
   "metadata": {},
   "source": [
    "We wanted to look deeper into different areas of the park and displays of fear. We separated the hectares of the park into hectares that are at the perimeter and hectares that are \"internal\" as seen below, so we could test if proximity to a major road impacted fear behaviors."
   ]
  },
  {
   "cell_type": "code",
   "execution_count": null,
   "id": "db33b470-fb58-4d0c-b441-ce25c71c7861",
   "metadata": {},
   "outputs": [],
   "source": [
    "#Internal hectares and perimeter hectares\n",
    "\n",
    "#Convert to shapely geometries\n",
    "hectare['geometry'] = hectare['the_geom'].apply(loads)\n",
    "\n",
    "#Make a GeoDataFrame from the regular DataFrame\n",
    "hectare_gdf = gpd.GeoDataFrame(hectare, geometry='geometry')\n",
    "\n",
    "#Set a coordinate reference system\n",
    "hectare_gdf.set_crs(\"EPSG:4326\", inplace=True)\n",
    "\n",
    "#Find outer limits of the grid\n",
    "min_x = hectare_gdf['xmin'].min()\n",
    "max_x = hectare_gdf['xmax'].max()\n",
    "min_y = hectare_gdf['ymin'].min()\n",
    "max_y = hectare_gdf['ymax'].max()\n",
    "\n",
    "#Mark perimeter: anything that touches the bounding box of the grid\n",
    "hectare_gdf['is_perimeter'] = (\n",
    "    (hectare_gdf['xmin'] == min_x) | (hectare_gdf['xmax'] == max_x) |\n",
    "    (hectare_gdf['ymin'] == min_y) | (hectare_gdf['ymax'] == max_y)\n",
    ")\n",
    "\n",
    "#Mark interior as not perimeter\n",
    "hectare_gdf['is_interior'] = ~hectare_gdf['is_perimeter']\n",
    "\n",
    "print(hectare_gdf[['id', 'is_interior', 'is_perimeter']])\n",
    "\n",
    "#Plot\n",
    "fig, ax = plt.subplots(figsize=(10, 10))\n",
    "hectare_gdf[hectare_gdf['is_interior']].plot(ax=ax, color='green', edgecolor='black', label='Interior')\n",
    "hectare_gdf[hectare_gdf['is_perimeter']].plot(ax=ax, color='red', edgecolor='black', label='Perimeter')\n",
    "plt.title(\"Interior vs Perimeter Hectares\")\n",
    "plt.axis('off') \n",
    "plt.show()\n",
    "\n",
    "#add interior and perimeter columns to the dataframe\n",
    "in_out_hectare = pd.DataFrame(hectare_gdf, columns = ['is_interior', 'is_perimeter', 'id'])\n",
    "in_out_hectare['id'] = in_out_hectare['id'].astype('int64')\n",
    "\n",
    "nyc_squirrels = nyc_squirrels.merge(in_out_hectare, how='left', on='id')\n",
    "nyc_squirrels"
   ]
  },
  {
   "cell_type": "markdown",
   "id": "70b24e03-96ed-4354-bb60-0a74b81ad89a",
   "metadata": {},
   "source": [
    "Finally, we wanted a way to catagorize the squirrels as having displayed a behavior associated with fear or not. There are several behavior columns that correlate to fear, so we created an additional column to aggregate these behaviors. We decided that a squirrel showed fear if the observer noted at least one of the following: Quaas, moans, tail flags, or running from something as squirrels will generally do one of the following in the precense of a predator in order to either scare them away or confuse them."
   ]
  },
  {
   "cell_type": "code",
   "execution_count": null,
   "id": "40d75720-253c-46e8-a044-39a40b5d11d9",
   "metadata": {},
   "outputs": [],
   "source": [
    "#Dispays of fear\n",
    "fear_columns = ['Quaas', 'Moans', 'Tail flags', 'Runs from']\n",
    "fear = nyc_squirrels[fear_columns].apply(pd.Series.value_counts)\n",
    "print(fear)\n",
    "\n",
    "#add a new column where it is marked true if it showed at least one fear trait\n",
    "nyc_squirrels[\"showed_fear\"] = nyc_squirrels[fear_columns].map(\n",
    "    lambda x: str(x).strip().lower() in [\"yes\", \"true\", \"1\"]\n",
    ").any(axis=1)\n",
    "nyc_squirrels"
   ]
  },
  {
   "cell_type": "markdown",
   "id": "1a23a5c6-def4-494b-b7cb-950785af51f8",
   "metadata": {},
   "source": [
    "### Exploratory Analysis\n"
   ]
  },
  {
   "cell_type": "markdown",
   "id": "d58bd5fd",
   "metadata": {},
   "source": [
    "The first thing we wanted to look into was the frequency of squirrel fur colors which we show in this bar chart."
   ]
  },
  {
   "cell_type": "code",
   "execution_count": null,
   "id": "ec893e7b",
   "metadata": {},
   "outputs": [],
   "source": [
    "#Primary fur color\n",
    "fur_color_ap = clean_squirrels['Primary Fur Color'].value_counts()\n",
    "\n",
    "plt.figure(figsize=(8, 5))\n",
    "fur_color_ap.plot(kind=\"bar\", color=[\"Gray\", \"Red\", \"Black\"])\n",
    "\n",
    "plt.title(\"Frequency of Squirrel Fur Colors\")\n",
    "plt.xlabel(\"Primary Fur Color\")\n",
    "plt.ylabel(\"Count\")\n",
    "plt.xticks(rotation=45)\n",
    "plt.grid(axis=\"y\", linestyle=\"--\", alpha=0.7)\n",
    "plt.show()\n",
    "\n",
    "#Combination of primary and highlight\n",
    "prim_high_color_ap = clean_squirrels['Combination of Primary and Highlight Color'].value_counts()\n",
    "\n",
    "plt.figure(figsize=(10, 5))\n",
    "prim_high_color_ap.plot(kind=\"bar\", color=[\"Gray\", \"indianred\", \"lightgray\", \"rosybrown\", \"firebrick\", \"mistyrose\", \"Black\", \"Maroon\", \"rosybrown\", \"darkred\", \"dimgray\",\n",
    "                                          \"brown\", \"brown\", \"saddlebrown\", \"dimgray\", \"gray\", \"sienna\", \"sienna\", \"saddlebrown\", \"gainsboro\", \"gray\"])\n",
    "\n",
    "plt.title(\"Frequency of Primary and Highlight Squirrel Fur Colors\")\n",
    "plt.xlabel(\"Primary Fur Color\")\n",
    "plt.ylabel(\"Count\")\n",
    "plt.xticks(rotation=45, ha=\"right\")\n",
    "plt.grid(axis=\"y\", linestyle=\"--\", alpha=0.7)\n",
    "plt.show()"
   ]
  },
  {
   "cell_type": "markdown",
   "id": "55c70583",
   "metadata": {},
   "source": [
    "Next, we wanted to take a look into the different behaviors that were classified as signs of fear to see how they compared to one another."
   ]
  },
  {
   "cell_type": "code",
   "execution_count": null,
   "id": "5702b2c7",
   "metadata": {},
   "outputs": [],
   "source": [
    "#Dispays of fear\n",
    "plt.figure(figsize=(8, 5))\n",
    "fear.plot(kind=\"bar\", color=[\"Blue\", \"lightblue\", \"Darkblue\"])\n",
    "\n",
    "plt.title(\"Frequency of Display of Fear Behaviors\")\n",
    "plt.xlabel(\"Expressing Fear Based Behavior\")\n",
    "plt.ylabel(\"Count\")\n",
    "plt.xticks(rotation=45)\n",
    "plt.grid(axis=\"y\", linestyle=\"--\", alpha=0.7)\n",
    "plt.show()"
   ]
  },
  {
   "cell_type": "markdown",
   "id": "edbcaa6a-5036-4b0e-8d5f-18b415468761",
   "metadata": {},
   "source": [
    "Once we looked at those freqencies we then wanted to shift gears and focus on the location of the squirrels within Central Park. None of us have worked with geographic data before and wanted to play around with it using the folium library. Once we initialized our map by finding the mean coordinates of the park we were then able to plot our points. The first map shows the squirrel locations based on primary fur color and also outlines the hectares. The map allows the user to hover over a squirrel and see the squirrel ID associated with that specific squirrel. The second map shows us the hecatres based on how many squirrels show fear within them. The green squares mean the fear rate is lower than 50% and the red squares indicate the fear rate within that hectare is greater than 50%. The second map also shows us the squirrel locations but grouped based on if they showed fear(indicated by the scared face), or if they expressed a lack of fear (indicated by the happy face)."
   ]
  },
  {
   "cell_type": "code",
   "execution_count": null,
   "id": "277b6304",
   "metadata": {},
   "outputs": [],
   "source": [
    "# Initialize the map\n",
    "fur_colors = {\n",
    "    \"Gray\": {\n",
    "        \"icon_url\": \"graysquirrel.png\",  # Gray squirrel\n",
    "        \"layer\": folium.FeatureGroup(name=\"Gray Squirrels\")\n",
    "    },\n",
    "    \"Cinnamon\": {\n",
    "        \"icon_url\": \"squirrel.png\",  # Cinnamon squirrel\n",
    "        \"layer\": folium.FeatureGroup(name=\"Cinnamon Squirrels\")\n",
    "    },\n",
    "    \"Black\": {\n",
    "        \"icon_url\": \"blacksquirrel.png\",  # Black squirrel\n",
    "        \"layer\": folium.FeatureGroup(name=\"Black Squirrels\")\n",
    "    }\n",
    "}\n",
    "\n",
    "for index, row in nyc_squirrels.iterrows():\n",
    "    fur_color = row.get('Primary Fur Color', 'Unknown')\n",
    "\n",
    "    if fur_color in fur_colors:\n",
    "        icon = folium.CustomIcon(\n",
    "            icon_image=fur_colors[fur_color][\"icon_url\"],\n",
    "            icon_size=(20, 20)\n",
    "        )\n",
    "        folium.Marker(\n",
    "            location=[row['Y'], row['X']],\n",
    "            icon=icon,\n",
    "            popup=row['Unique Squirrel ID']\n",
    "        ).add_to(fur_colors[fur_color][\"layer\"])\n",
    "\n",
    "polygon_layer = folium.FeatureGroup(name=\"Hectare Polygons\")\n",
    "\n",
    "for index, row in hectare_final.iterrows():\n",
    "    try:\n",
    "        locations = [\n",
    "            (row[\"lat_1\"], row[\"lon_1\"]),\n",
    "            (row[\"lat_2\"], row[\"lon_2\"]),\n",
    "            (row[\"lat_3\"], row[\"lon_3\"]),\n",
    "            (row[\"lat_4\"], row[\"lon_4\"]),\n",
    "            (row[\"lat_1\"], row[\"lon_1\"])\n",
    "        ]\n",
    "        folium.Polygon(\n",
    "            locations=locations,\n",
    "            color=\"red\" if index % 2 == 0 else \"blue\",\n",
    "            fill=True,\n",
    "            fill_color=\"red\" if index % 2 == 0 else \"blue\",\n",
    "            fill_opacity=0.3,\n",
    "            popup=str(row.get(\"id\", f\"Hectare {index}\"))\n",
    "        ).add_to(polygon_layer)\n",
    "    except Exception as e:\n",
    "        print(f\"Error in polygon {index}: {e}\")\n",
    "\n",
    "my_map_mc = folium.Map(location=[nyc_squirrels['Y'].mean(), nyc_squirrels['X'].mean()], zoom_start=15)\n",
    "\n",
    "\n",
    "polygon_layer.add_to(my_map_mc)\n",
    "\n",
    "for info in fur_colors.values():\n",
    "    info[\"layer\"].add_to(my_map_mc)\n",
    "\n",
    "# Add toggle control\n",
    "folium.LayerControl(collapsed=False).add_to(my_map_mc)\n",
    "\n",
    "# Save and/or display\n",
    "my_map_mc.save(\"grouped_squirrels_map.html\")\n",
    "my_map_mc\n"
   ]
  },
  {
   "cell_type": "code",
   "execution_count": null,
   "id": "6a4bbc0c",
   "metadata": {},
   "outputs": [],
   "source": [
    "# Group squirrels by id and calculate mean of 'showed_fear'\n",
    "fear_rates = nyc_squirrels.groupby(\"id\")[\"showed_fear\"].mean().reset_index()\n",
    "fear_rates.rename(columns={\"showed_fear\": \"fear_rate\"}, inplace=True)\n",
    "\n",
    "df_final = hectare_final.merge(fear_rates, on=\"id\", how=\"left\")\n",
    "\n",
    "df_final[\"fear_label\"] = df_final[\"fear_rate\"].apply(\n",
    "    lambda x: \"Fear\" if pd.notna(x) and x >= 0.5 else \"No Fear\"\n",
    ")\n"
   ]
  },
  {
   "cell_type": "code",
   "execution_count": null,
   "id": "59bb05e9",
   "metadata": {},
   "outputs": [],
   "source": [
    "# Rebuild the map from scratch to avoid duplicates or conflicts\n",
    "my_map_mc = folium.Map(location=[nyc_squirrels['Y'].mean(), nyc_squirrels['X'].mean()], zoom_start=15)\n",
    "\n",
    "# New FeatureGroup for labeled hectare polygons\n",
    "fear_polygons_layer = folium.FeatureGroup(name=\"Hectare Fear Zones\")\n",
    "\n",
    "for index, row in df_final.iterrows():\n",
    "    try:\n",
    "        locations = [\n",
    "            (row[\"lat_1\"], row[\"lon_1\"]),\n",
    "            (row[\"lat_2\"], row[\"lon_2\"]),\n",
    "            (row[\"lat_3\"], row[\"lon_3\"]),\n",
    "            (row[\"lat_4\"], row[\"lon_4\"]),\n",
    "            (row[\"lat_1\"], row[\"lon_1\"])  # Close the polygon\n",
    "        ]\n",
    "\n",
    "        # Choose color based on fear_label\n",
    "        color = \"red\" if row[\"fear_label\"] == \"Fear\" else \"green\"\n",
    "\n",
    "        folium.Polygon(\n",
    "            locations=locations,\n",
    "            color=color,\n",
    "            fill=True,\n",
    "            fill_color=color,\n",
    "            fill_opacity=0.4,\n",
    "            popup=f\"Hectare ID: {row.get('hectare_id', index)}\\nFear Level: {row['fear_label']}\"\n",
    "        ).add_to(fear_polygons_layer)\n",
    "\n",
    "    except Exception as e:\n",
    "        print(f\"Polygon error at index {index}: {e}\")\n",
    "\n",
    "fear_polygons_layer.add_to(my_map_mc)\n",
    "\n",
    "\n",
    "# fear-based icons\n",
    "showed_fear_mc = {\n",
    "    \"Fear\": {\n",
    "        \"icon_url\": \"fear.png\",\n",
    "        \"layer\": folium.FeatureGroup(name=\"Fear\")\n",
    "    },\n",
    "    \"No Fear\": {\n",
    "        \"icon_url\": \"happiness.png\",\n",
    "        \"layer\": folium.FeatureGroup(name=\"No Fear\")\n",
    "    }\n",
    "}\n",
    "\n",
    "for index, row in clean_squirrels.iterrows():\n",
    "    fear = row.get('showed_fear_ap', False)\n",
    "    fear_label = \"Fear\" if fear else \"No Fear\"\n",
    "\n",
    "    icon = folium.CustomIcon(\n",
    "        icon_image=showed_fear_mc[fear_label][\"icon_url\"],\n",
    "        icon_size=(20, 20)\n",
    "    )\n",
    "    folium.Marker(\n",
    "        location=[row['Y'], row['X']],\n",
    "        icon=icon,\n",
    "        popup=row['Unique Squirrel ID']\n",
    "    ).add_to(showed_fear_mc[fear_label][\"layer\"])\n",
    "\n",
    "# Add fear layers to map\n",
    "for info in showed_fear_mc.values():\n",
    "    info[\"layer\"].add_to(my_map_mc)\n",
    "\n",
    "# Add the layer control toggle\n",
    "folium.LayerControl(collapsed=False).add_to(my_map_mc)\n",
    "\n",
    "# Save or display\n",
    "my_map_mc.save(\"fear_map.html\")\n",
    "my_map_mc\n"
   ]
  },
  {
   "cell_type": "markdown",
   "id": "91252f01-3eaf-4423-9d00-38217e039f3c",
   "metadata": {},
   "source": [
    "### Analysis\n",
    "\n",
    "\n",
    "We tested for the correlation (and strength of that correlation) between physical traits and behaviors, using the chi squared test of independence and Carmer’s V test. We also tested the correlation between the location in the park and squirrel behavior.\n"
   ]
  },
  {
   "cell_type": "code",
   "execution_count": null,
   "id": "221d014b",
   "metadata": {},
   "outputs": [],
   "source": [
    "#See if physical characteristics and fear have a relation\n",
    "\n",
    "fear_columns = ['Quaas', 'Moans', 'Tail flags', 'Runs from']\n",
    "\n",
    "#Group by fur color and count how many did/didn't show fear\n",
    "fur_fear = nyc_squirrels.groupby(\"Primary Fur Color\")[\"showed_fear\"].value_counts().unstack()\n",
    "\n",
    "print(nyc_squirrels[\"showed_fear\"].value_counts())\n",
    "\n",
    "#Plot\n",
    "fur_fear.plot(kind=\"bar\", stacked=True, figsize=(8, 5), color=[\"steelblue\", \"firebrick\"])\n",
    "print(fur_fear)\n",
    "\n",
    "plt.title(\"Comparison of Fur Color and Fear Behaviors in Squirrels\")\n",
    "plt.xlabel(\"Fur Color\")\n",
    "plt.ylabel(\"Count of Squirrels\")\n",
    "plt.legend([\"Did Not Show Fear\", \"Showed Fear\"])\n",
    "plt.xticks(rotation=45)\n",
    "plt.grid(axis=\"y\", linestyle=\"--\", alpha=0.7)\n",
    "\n",
    "plt.show()\n",
    "\n",
    "\n",
    "fur_fear = nyc_squirrels.groupby(\"Primary Fur Color\")[\"showed_fear\"].value_counts().unstack(fill_value=0)\n",
    "\n",
    "#contingency table\n",
    "print(fur_fear)\n",
    "\n",
    "#Chi-Square test\n",
    "chi2, p, dof, expected = chi2_contingency(fur_fear)\n",
    "\n",
    "print(f\"\\nChi-Square statistic: {chi2}\")\n",
    "print(f\"Degrees of freedom: {dof}\")\n",
    "print(f\"Expected frequencies:\\n{expected}\")\n",
    "print(f\"P-value: {p}\")"
   ]
  },
  {
   "cell_type": "markdown",
   "id": "da540304-7cae-47b8-ab66-52c3b44857a2",
   "metadata": {},
   "source": [
    "From the graph and the chi-squared test, it can be observed that although there appears to be a difference in the number of squirrels that show fear based on the ratio of total squirrels of a color and the number that showed fear, the p-value indicates that any difference is likely due to chance. We cannot reject the null hypothesis that the squirrels primary fur color does not have any correlation to the demonstration of fear."
   ]
  },
  {
   "cell_type": "code",
   "execution_count": null,
   "id": "4b04fa13",
   "metadata": {},
   "outputs": [],
   "source": [
    "#See if fear and location have a relationship\n",
    "\n",
    "loc_fear_ap = nyc_squirrels.groupby(\"Lat/Long\")[\"showed_fear\"].value_counts().unstack(fill_value=0)\n",
    "print(nyc_squirrels[\"showed_fear\"].value_counts())\n",
    "\n",
    "colors = nyc_squirrels[\"showed_fear\"].map({True: \"firebrick\", False: \"steelblue\"})\n",
    "\n",
    "#Plot\n",
    "plt.figure(figsize=(8, 5))\n",
    "plt.scatter(nyc_squirrels[\"X\"], nyc_squirrels[\"Y\"], c=colors, alpha=0.6)\n",
    "\n",
    "plt.title(\"Squirrel Locations and Fear Response\")\n",
    "plt.xlabel(\"Longitude (X)\")\n",
    "plt.ylabel(\"Latitude (Y)\")\n",
    "plt.grid(True, linestyle=\"--\", alpha=0.5)\n",
    "plt.legend([\"Did Not Show Fear\", \"Showed Fear\"])\n",
    "\n",
    "plt.show()\n",
    "\n",
    "#Chi-Square test\n",
    "chi2, p, dof, expected = chi2_contingency(loc_fear_ap)\n",
    "\n",
    "print(f\"\\nChi-Square statistic: {chi2}\")\n",
    "print(f\"Degrees of freedom: {dof}\")\n",
    "print(f\"Expected frequencies:\\n{expected}\")\n",
    "print(f\"P-value: {p}\")"
   ]
  },
  {
   "cell_type": "markdown",
   "id": "db33dd4e-883e-4dc2-83da-ef88b67b88e0",
   "metadata": {},
   "source": [
    "Each squirrel was given coordinates of their location. We wanted to look into whether thei exact location of the park has any coorelation with traits displayed. We obtained a p-value of 0.49 from a chi square test resulting in the inability to reject the null hypothesis that location plays no role in a squirrels behavioral responses."
   ]
  },
  {
   "cell_type": "code",
   "execution_count": null,
   "id": "3025b62e",
   "metadata": {
    "scrolled": true
   },
   "outputs": [],
   "source": [
    "#Hectare and fear response relationship\n",
    "\n",
    "hect_fear_ap = nyc_squirrels.groupby(\"Hectare\")[\"showed_fear\"].value_counts().unstack(fill_value=0)\n",
    "print(nyc_squirrels[\"showed_fear\"].value_counts())\n",
    "\n",
    "#Plot\n",
    "hect_fear_ap.plot(kind=\"barh\", stacked=True, figsize=(15, 20), color=[\"steelblue\", \"firebrick\"])\n",
    "\n",
    "plt.title(\"Fear Response by Hectare\")\n",
    "plt.xlabel(\"Hectare\", rotation=0)\n",
    "plt.ylabel(\"Number of Squirrels\")\n",
    "plt.legend([\"Did Not Show Fear\", \"Showed Fear\"])\n",
    "plt.xticks(rotation=0) \n",
    "plt.grid(axis=\"y\", alpha=0.5)\n",
    "\n",
    "plt.show()\n",
    "\n",
    "#Chi-Square test\n",
    "chi2, p, dof, expected = chi2_contingency(hect_fear_ap)\n",
    "\n",
    "print(f\"\\nChi-Square statistic: {chi2}\")\n",
    "print(f\"Degrees of freedom: {dof}\")\n",
    "print(f\"Expected frequencies:\\n{expected}\")\n",
    "print(f\"P-value: {p}\")"
   ]
  },
  {
   "cell_type": "markdown",
   "id": "6f63849b-154c-408a-ab00-f8d36f8d630a",
   "metadata": {},
   "source": [
    "Interestingly enough, although the squirrels exact location played no stastically significant role, when comparing the squirrels in each hectare, we are able to reject the null hypothesis that the hectare tht a squirrel is in has no effect on whether it will demonstrate fear. We obtained a p-value of 9.19e-10 indicating that there is a stastical significance between hectare and squirrels experiencing fear"
   ]
  },
  {
   "cell_type": "markdown",
   "id": "6fdf1340-c567-44ac-8e78-efb4132273e2",
   "metadata": {},
   "source": [
    "Because there is a statistically significant relationship between hectare and fear, we wanted to look deeper into different areas of the park and displays of fear. We separated the hectares of the park into hectares that are at the perimeter and hectares that are \"internal\" as seen below."
   ]
  },
  {
   "cell_type": "code",
   "execution_count": null,
   "id": "5cdbe52f-036c-4b75-a905-4cf15b6738dd",
   "metadata": {
    "scrolled": true
   },
   "outputs": [],
   "source": [
    "#See if hectare location has a relation to the fear experienced\n",
    "\n",
    "per_in_hec = nyc_squirrels.groupby(\"is_perimeter\")[\"showed_fear\"].value_counts().unstack(fill_value=0)\n",
    "print(nyc_squirrels[\"showed_fear\"].value_counts())\n",
    "\n",
    "#Plot\n",
    "per_in_hec.plot(kind=\"bar\", stacked=True, figsize=(6, 8), color=[\"steelblue\", \"firebrick\"])\n",
    "\n",
    "plt.title(\"Fear Response vs Location of Hectare\")\n",
    "plt.xlabel(\"Location\", rotation=0)\n",
    "plt.ylabel(\"Number of Squirrels\")\n",
    "plt.legend([\"Did Not Show Fear\", \"Showed Fear\"])\n",
    "plt.xticks(rotation=0) \n",
    "plt.grid(axis=\"y\", alpha=0.5)\n",
    "\n",
    "plt.show()\n",
    "\n",
    "#Chi-Square test\n",
    "chi2, p, dof, expected = chi2_contingency(per_in_hec)\n",
    "\n",
    "print(f\"\\nChi-Square statistic: {chi2}\")\n",
    "print(f\"Degrees of freedom: {dof}\")\n",
    "print(f\"Expected frequencies:\\n{expected}\")\n",
    "print(f\"P-value: {p}\")"
   ]
  },
  {
   "cell_type": "markdown",
   "id": "a1ce420d-f97f-4239-b188-d9e170ec37c2",
   "metadata": {},
   "source": [
    "Although there is a stastitcally significant difference in the hectare that a squirrel is in, whether the hectare is in the perimeter of the park or more internal does not play a role in the fear that a squirrel expresses."
   ]
  },
  {
   "cell_type": "markdown",
   "id": "d5026ed2-1416-4333-9d43-ff7eebe81f4a",
   "metadata": {},
   "source": [
    "Because there were multiple shifts of volunteers that made squirrel observations, we also wanted to look at whether the time of day had any effect on the squirrels behaviors. Based on the chi-squared and obtained p-value, there is not stastistically significant difference."
   ]
  },
  {
   "cell_type": "code",
   "execution_count": null,
   "id": "0045f1a9",
   "metadata": {
    "scrolled": true
   },
   "outputs": [],
   "source": [
    "#AM/PM and fear response relationship\n",
    "\n",
    "time_fear_ap = nyc_squirrels.groupby(\"Shift\")[\"showed_fear\"].value_counts().unstack(fill_value=0)\n",
    "print(nyc_squirrels[\"showed_fear\"].value_counts())\n",
    "\n",
    "#Plot\n",
    "time_fear_ap.plot(kind=\"bar\", stacked=True, figsize=(6, 8), color=[\"steelblue\", \"firebrick\"])\n",
    "\n",
    "plt.title(\"Fear Response vs Time of Day\")\n",
    "plt.xlabel(\"Time\", rotation=0)\n",
    "plt.ylabel(\"Number of Squirrels\")\n",
    "plt.legend([\"Did Not Show Fear\", \"Showed Fear\"])\n",
    "plt.xticks(rotation=0) \n",
    "plt.grid(axis=\"y\", alpha=0.5)\n",
    "\n",
    "plt.show()\n",
    "\n",
    "#Chi-Square test\n",
    "chi2, p, dof, expected = chi2_contingency(time_fear_ap)\n",
    "\n",
    "print(f\"\\nChi-Square statistic: {chi2}\")\n",
    "print(f\"Degrees of freedom: {dof}\")\n",
    "print(f\"Expected frequencies:\\n{expected}\")\n",
    "print(f\"P-value: {p}\")"
   ]
  },
  {
   "cell_type": "markdown",
   "id": "ce9640d4-7f50-471d-aa2b-901be39ecc3e",
   "metadata": {},
   "source": [
    "Research has demonstrated that adult aged squirrels tend to me more aggressive (6), however the data obtained demonstrated that there is no stastically significant difference is fear displays based on age."
   ]
  },
  {
   "cell_type": "code",
   "execution_count": null,
   "id": "d68df8ce",
   "metadata": {},
   "outputs": [],
   "source": [
    "#age and fear response relationship\n",
    "\n",
    "age_fear_ap = nyc_squirrels.groupby(\"Age\")[\"showed_fear\"].value_counts().unstack(fill_value=0)\n",
    "print(nyc_squirrels[\"showed_fear\"].value_counts())\n",
    "\n",
    "#Plot\n",
    "age_fear_ap.plot(kind=\"bar\", stacked=True, figsize=(6, 5), color=[\"steelblue\", \"firebrick\"])\n",
    "\n",
    "plt.title(\"Fear Response vs Age\")\n",
    "plt.xlabel(\"Age\", rotation=0)\n",
    "plt.ylabel(\"Number of Squirrels\")\n",
    "plt.legend([\"Did Not Show Fear\", \"Showed Fear\"])\n",
    "plt.xticks(rotation=0) \n",
    "plt.grid(axis=\"y\", alpha=0.5)\n",
    "\n",
    "plt.show()\n",
    "\n",
    "#Chi-Square test\n",
    "chi2, p, dof, expected = chi2_contingency(age_fear_ap)\n",
    "\n",
    "print(f\"\\nChi-Square statistic: {chi2}\")\n",
    "print(f\"Degrees of freedom: {dof}\")\n",
    "print(f\"Expected frequencies:\\n{expected}\")\n",
    "print(f\"P-value: {p}\")"
   ]
  },
  {
   "cell_type": "markdown",
   "id": "79d8fb16-1fe0-4ca5-8cc4-756b97e464b0",
   "metadata": {},
   "source": [
    "The last test we did was to see if the squirrels were randomly dispersed across the park. We only included hectares with squirrels in them, as most of the empty hectares are over lakes or buildings."
   ]
  },
  {
   "cell_type": "code",
   "execution_count": null,
   "id": "e20ec035-5f6c-4873-8465-4f7a937af205",
   "metadata": {},
   "outputs": [],
   "source": [
    "#making a dataframe with the necessary data\n",
    "squirrel_data = nyc_squirrels[['id','Shift','Primary Fur Color','showed_fear','Age']].copy()\n",
    "squirrel_data = pd.get_dummies(squirrel_data, columns=['Primary Fur Color'],prefix = 'col')\n",
    "squirrel_data['showed_fear'] = squirrel_data['showed_fear'] == True\n",
    "squirrel_data['no_fear'] = squirrel_data['showed_fear'] == False\n",
    "color_hectare = squirrel_data.groupby('id')[['col_Black', 'col_Cinnamon', 'col_Gray']].sum()"
   ]
  },
  {
   "cell_type": "code",
   "execution_count": null,
   "id": "bc13ec09-85a6-4615-89f4-73fe7b096053",
   "metadata": {},
   "outputs": [],
   "source": [
    "#Black Squirrel disrtibution\n",
    "blk_observed_counts = color_hectare['col_Black']\n",
    "# Expected counts\n",
    "blk_expected_counts = [sum(blk_observed_counts) / len(blk_observed_counts)] * len(blk_observed_counts)\n",
    "# Perform Chi-Square Test\n",
    "blk_chi2_stat, blk_p_value = chisquare(f_obs=blk_observed_counts, f_exp=blk_expected_counts)\n",
    "print(\"Black Squirrels\")\n",
    "print(f\"Chi² Statistic: {blk_chi2_stat}\")\n",
    "print(f\"P-value: {blk_p_value}\")\n",
    "\n",
    "blk_vmr = np.var(blk_observed_counts) / np.mean(blk_observed_counts)\n",
    "print(f\"Variance-to-Mean Ratio: {blk_vmr}\")\n",
    "\n",
    "#Cinnamon Squirrel distrtibution\n",
    "cin_observed_counts = color_hectare['col_Cinnamon']\n",
    "# Expected counts\n",
    "cin_expected_counts = [sum(cin_observed_counts) / len(cin_observed_counts)] * len(cin_observed_counts)\n",
    "# Perform Chi-Square Test\n",
    "cin_chi2_stat, cin_p_value = chisquare(f_obs=cin_observed_counts, f_exp=cin_expected_counts)\n",
    "print(\"Cinnamon Squirrels\")\n",
    "print(f\"Chi² Statistic: {cin_chi2_stat}\")\n",
    "print(f\"P-value: {cin_p_value}\")\n",
    "\n",
    "cin_vmr = np.var(cin_observed_counts) / np.mean(cin_observed_counts)\n",
    "print(f\"Variance-to-Mean Ratio: {cin_vmr}\")\n",
    "\n",
    "#Gray Squirrel distrtibution\n",
    "gry_observed_counts = color_hectare['col_Gray']\n",
    "# Expected counts\n",
    "gry_expected_counts = [sum(gry_observed_counts) / len(gry_observed_counts)] * len(gry_observed_counts)\n",
    "# Perform Chi-Square Test\n",
    "gry_chi2_stat, gry_p_value = chisquare(f_obs=gry_observed_counts, f_exp=gry_expected_counts)\n",
    "print(f\"Chi² Statistic: {gry_chi2_stat}\")\n",
    "print(f\"P-value: {gry_p_value}\")\n",
    "\n",
    "gry_vmr = np.var(gry_observed_counts) / np.mean(gry_observed_counts)\n",
    "print(f\"Variance-to-Mean Ratio: {gry_vmr}\")"
   ]
  },
  {
   "cell_type": "markdown",
   "id": "590869df",
   "metadata": {},
   "source": [
    "### Conclusion"
   ]
  },
  {
   "cell_type": "markdown",
   "id": "a0cab31f-b498-43d1-bc70-5ecd106bef75",
   "metadata": {},
   "source": [
    "Our project aimed to determine if there is a strong correlation between physical characteristics, including primary fur color, and age, as well as location of the squirrel within Central Park and their behaviors. While we were hopeful to find some correlation between squirrels who do show fear behavior and a common denominator to group them, our analysis did not show this. We were able to show that squirrels were not randomly distributed across the park, and were instead clustered. Through our analysis we were able to determine that different hectares squirrels are in, affects the squirrels behavior. However we were unable to determine the location of the hectares that resulted in a discrepancy of behaviors.  \n",
    "An issue we frequently ran into was discrepancies within our datasets. For example, we had two datasets for the hectares, one describing the location and the other describing the conditions of that hectare, and the two datasets did not contain the same ID numbers for the same hectares so we had to manually identify each one using their coordinates. The next discrepancy we discovered was the possibility of duplicated squirrels within our dataset due to the census being collected over multiple days. Another thing we noticed within the hectare data was there were multiple volunteers inputting conflicting data regarding the conditions of the same hectare. The next issue we ran into was utilizing Github. Since we split the coding up between the three of us we were excited to be able to all work on the same jupyter notebook and then push it to our github for the other team members to see. While this worked for the first couple of pushes, once we decided to make our own branches to avoid writing over other member’s code, somewhere along the way we broke it and we were no longer able to push or pull anything.\n",
    "For future analysis we would want to look more into the clusters that we found and see what factor is clustering the squirrels. We would also want to focus more on our hectare data by focusing on individual hectares so we have a smaller area to investigate. Another thing we discussed as a group was collecting better data from a different, more organized source, or potentially seeing if there is any consistency of behaviors across squirrels in different parks, or areas.\n"
   ]
  },
  {
   "cell_type": "markdown",
   "id": "adfe1bdd-791a-4f59-a879-f681cd5dc4fa",
   "metadata": {},
   "source": [
    "Works Cited<br>\n",
    "(1) Baldwin, Marc. “Squirrel Fur Colour & Characteristics.” *Wildlife Online*, Wildlife Online, 20 Oct. 2024, www.wildlifeonline.me.uk/animals/article/squirrel-fur-colour-characteristics#:~:text=Among%20the%20Greys%2C%20silvery%20(frosted,grey%20but%20the%20feet%20orange.). <br>\n",
    "\n",
    "\n",
    "(2) Fox. “Animals of the U: Fox A. Squirrel - @theU.” *AttheU*, 1 Apr. 2024, attheu.utah.edu/students/animals-of-the-u-fox-a-squirrel/. <br>\n",
    "\n",
    "\n",
    "(3) Kerlin, Katherine E. “Personality Matters, Even for Squirrels.” *UC Davis*, 17 Apr. 2023, www.ucdavis.edu/curiosity/news/personality-matters-even-squirrels-0. <br>\n",
    "\n",
    "\n",
    "(4) “Let’s Learn about Squirrels.” *IAISMuseums*, June 2020, www.iaismuseum.org/wp-content/uploads/2020/05/Lets-Learn-About-Squirrels.pdf. <br>\n",
    "\n",
    "\n",
    "(5) “NHMU Fox Squirrel Survey.” *Natural History Museum of Utah*, nhmu.utah.edu/citizen-science/utah-fox-squirrels/survey. Accessed 17 Apr. 2025. <br>\n",
    "\n",
    "\n",
    "(6) “Squirrel Behaviour - Dominance, Aggression & Territoriality.” *Wildlife Online*, Wildlife Online, 15 Sept. 2019, www.wildlifeonline.me.uk/animals/article/squirrel-behaviour-dominance-aggression-territoriality#:~:text=A%20study%20of%20Grey%20squirrel,social%20aggressiveness%20than%20older%20animals. "
   ]
  }
 ],
 "metadata": {
  "kernelspec": {
   "display_name": "Python 3 (ipykernel)",
   "language": "python",
   "name": "python3"
  },
  "language_info": {
   "codemirror_mode": {
    "name": "ipython",
    "version": 3
   },
   "file_extension": ".py",
   "mimetype": "text/x-python",
   "name": "python",
   "nbconvert_exporter": "python",
   "pygments_lexer": "ipython3",
   "version": "3.13.0"
  },
  "vscode": {
   "interpreter": {
    "hash": "cd78fef2128015050713e82ca51c6520b11aee7c9ee8df750520bbbc7384cbaa"
   }
  }
 },
 "nbformat": 4,
 "nbformat_minor": 5
}
